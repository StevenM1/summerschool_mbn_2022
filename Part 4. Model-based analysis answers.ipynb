{
 "cells": [
  {
   "cell_type": "markdown",
   "metadata": {},
   "source": [
    "# Part 4. Model-based analysis\n",
    "\n",
    "In the previous part, we pre-processed the fmri data, we fit the behavioral model, and extracted signal from each participant's striatum. Now, we're ready to do the final step: the model-based analysis, to see if differences in signal in striatum due to a `speed` cue versus an `accuracy` cue correlate with threshold differences."
   ]
  },
  {
   "cell_type": "code",
   "execution_count": 1,
   "metadata": {},
   "outputs": [],
   "source": [
    "import numpy as np\n",
    "import matplotlib.pyplot as plt\n",
    "import nilearn\n",
    "import seaborn as sns\n",
    "import pandas as pd\n",
    "import scipy as sp\n",
    "from scipy import stats\n",
    "\n",
    "import glob\n",
    "import re\n",
    "%matplotlib inline"
   ]
  },
  {
   "cell_type": "markdown",
   "metadata": {},
   "source": [
    "We start out by loading all extracted striatum signal of all participants. Using the following line of code, you can make a list of all `.txt`-files that were generated before."
   ]
  },
  {
   "cell_type": "code",
   "execution_count": 2,
   "metadata": {},
   "outputs": [
    {
     "data": {
      "text/plain": [
       "['/data/extracted_signals/extracted_timeseries/_mask_STR_R_subject_id_381/_extract_mean_ts0/sub-381_task-SAT_run-1_space-MNI152NLin2009cAsym_desc-preproc_bold_ts.txt',\n",
       " '/data/extracted_signals/extracted_timeseries/_mask_STR_R_subject_id_381/_extract_mean_ts1/sub-381_task-SAT_run-2_space-MNI152NLin2009cAsym_desc-preproc_bold_ts.txt',\n",
       " '/data/extracted_signals/extracted_timeseries/_mask_STR_L_subject_id_549/_extract_mean_ts0/sub-549_task-SAT_run-1_space-MNI152NLin2009cAsym_desc-preproc_bold_ts.txt',\n",
       " '/data/extracted_signals/extracted_timeseries/_mask_STR_L_subject_id_549/_extract_mean_ts1/sub-549_task-SAT_run-2_space-MNI152NLin2009cAsym_desc-preproc_bold_ts.txt',\n",
       " '/data/extracted_signals/extracted_timeseries/_mask_STR_L_subject_id_559/_extract_mean_ts0/sub-559_task-SAT_run-1_space-MNI152NLin2009cAsym_desc-preproc_bold_ts.txt',\n",
       " '/data/extracted_signals/extracted_timeseries/_mask_STR_L_subject_id_559/_extract_mean_ts1/sub-559_task-SAT_run-2_space-MNI152NLin2009cAsym_desc-preproc_bold_ts.txt',\n",
       " '/data/extracted_signals/extracted_timeseries/_mask_STR_L_subject_id_552/_extract_mean_ts0/sub-552_task-SAT_run-1_space-MNI152NLin2009cAsym_desc-preproc_bold_ts.txt',\n",
       " '/data/extracted_signals/extracted_timeseries/_mask_STR_L_subject_id_552/_extract_mean_ts1/sub-552_task-SAT_run-2_space-MNI152NLin2009cAsym_desc-preproc_bold_ts.txt',\n",
       " '/data/extracted_signals/extracted_timeseries/_mask_STR_R_subject_id_483/_extract_mean_ts0/sub-483_task-SAT_run-1_space-MNI152NLin2009cAsym_desc-preproc_bold_ts.txt',\n",
       " '/data/extracted_signals/extracted_timeseries/_mask_STR_R_subject_id_483/_extract_mean_ts1/sub-483_task-SAT_run-2_space-MNI152NLin2009cAsym_desc-preproc_bold_ts.txt']"
      ]
     },
     "execution_count": 2,
     "metadata": {},
     "output_type": "execute_result"
    }
   ],
   "source": [
    "fns = glob.glob('/data/extracted_signals/extracted_timeseries/_mask_*_subject_id_*/_extract*/*.txt')\n",
    "fns[:10]"
   ]
  },
  {
   "cell_type": "markdown",
   "metadata": {},
   "source": [
    "Each of the file names contains the subject id, the applied mask, and the run/block number. We later want to extract these, and for this we can use a regular expression. It's a bit of an 'art' to create these, but you want something like this:"
   ]
  },
  {
   "cell_type": "code",
   "execution_count": 3,
   "metadata": {},
   "outputs": [],
   "source": [
    "reg = re.compile('.*/_mask_(?P<mask_name>.*)_subject_id_(?P<subj_idx>.*)/_extract_mean_ts[0-9]/sub-[0-9]*_task-SAT_run-(?P<block>[0-9])_space-MNI152NLin2009cAsym_desc-preproc_bold_ts.txt')"
   ]
  },
  {
   "cell_type": "markdown",
   "metadata": {},
   "source": [
    "To visualize what reg does, you can do the following:"
   ]
  },
  {
   "cell_type": "code",
   "execution_count": 4,
   "metadata": {},
   "outputs": [
    {
     "name": "stdout",
     "output_type": "stream",
     "text": [
      "/data/extracted_signals/extracted_timeseries/_mask_STR_R_subject_id_381/_extract_mean_ts0/sub-381_task-SAT_run-1_space-MNI152NLin2009cAsym_desc-preproc_bold_ts.txt\n",
      "{'mask_name': 'STR_R', 'subj_idx': '381', 'block': '1'}\n",
      "/data/extracted_signals/extracted_timeseries/_mask_STR_R_subject_id_381/_extract_mean_ts1/sub-381_task-SAT_run-2_space-MNI152NLin2009cAsym_desc-preproc_bold_ts.txt\n",
      "{'mask_name': 'STR_R', 'subj_idx': '381', 'block': '2'}\n",
      "/data/extracted_signals/extracted_timeseries/_mask_STR_L_subject_id_549/_extract_mean_ts0/sub-549_task-SAT_run-1_space-MNI152NLin2009cAsym_desc-preproc_bold_ts.txt\n",
      "{'mask_name': 'STR_L', 'subj_idx': '549', 'block': '1'}\n",
      "/data/extracted_signals/extracted_timeseries/_mask_STR_L_subject_id_549/_extract_mean_ts1/sub-549_task-SAT_run-2_space-MNI152NLin2009cAsym_desc-preproc_bold_ts.txt\n",
      "{'mask_name': 'STR_L', 'subj_idx': '549', 'block': '2'}\n",
      "/data/extracted_signals/extracted_timeseries/_mask_STR_L_subject_id_559/_extract_mean_ts0/sub-559_task-SAT_run-1_space-MNI152NLin2009cAsym_desc-preproc_bold_ts.txt\n",
      "{'mask_name': 'STR_L', 'subj_idx': '559', 'block': '1'}\n"
     ]
    }
   ],
   "source": [
    "for fn in fns[:5]:\n",
    "    print(fn)\n",
    "    print(reg.match(fn).groupdict())"
   ]
  },
  {
   "cell_type": "markdown",
   "metadata": {},
   "source": [
    "1) What does the call `reg.match(fn).groupdict()` do?"
   ]
  },
  {
   "cell_type": "markdown",
   "metadata": {},
   "source": [
    "*From every file path, it extracts the applied mask, the subject id, and the block number. We'll use this next.*"
   ]
  },
  {
   "cell_type": "markdown",
   "metadata": {},
   "source": [
    "An especially useful library is [pandas](http://pandas.pydata.org/), which allows you to manipulate data in an `R`-like DataFrame. Next, I'll combine all neural data of all subjects in a single DataFrame."
   ]
  },
  {
   "cell_type": "code",
   "execution_count": 5,
   "metadata": {},
   "outputs": [],
   "source": [
    "# create an empty list first\n",
    "df = []\n",
    "\n",
    "# loop over .txt-files, adding signal row-by-row\n",
    "for fn in fns:\n",
    "    d = reg.match(fn).groupdict()  # here, we extract the paths\n",
    "    d['signal'] = np.loadtxt(fn)\n",
    "    df.append(d)\n",
    "\n",
    "df = pd.DataFrame(df)  # here, we convert the list to a DataFrame\n",
    "df['block'] = df['block'].astype(int)\n",
    "df['subj_idx'] = df['subj_idx'].astype(int)"
   ]
  },
  {
   "cell_type": "markdown",
   "metadata": {},
   "source": [
    "2) Have a look at the head of the dataframe, what do you see? Can you plot the signal for a few subjects?"
   ]
  },
  {
   "cell_type": "code",
   "execution_count": 6,
   "metadata": {},
   "outputs": [
    {
     "data": {
      "text/html": [
       "<div>\n",
       "<style scoped>\n",
       "    .dataframe tbody tr th:only-of-type {\n",
       "        vertical-align: middle;\n",
       "    }\n",
       "\n",
       "    .dataframe tbody tr th {\n",
       "        vertical-align: top;\n",
       "    }\n",
       "\n",
       "    .dataframe thead th {\n",
       "        text-align: right;\n",
       "    }\n",
       "</style>\n",
       "<table border=\"1\" class=\"dataframe\">\n",
       "  <thead>\n",
       "    <tr style=\"text-align: right;\">\n",
       "      <th></th>\n",
       "      <th>mask_name</th>\n",
       "      <th>subj_idx</th>\n",
       "      <th>block</th>\n",
       "      <th>signal</th>\n",
       "    </tr>\n",
       "  </thead>\n",
       "  <tbody>\n",
       "    <tr>\n",
       "      <th>0</th>\n",
       "      <td>STR_R</td>\n",
       "      <td>381</td>\n",
       "      <td>1</td>\n",
       "      <td>[447.3622664, 447.7903752, 446.7620939, 447.12...</td>\n",
       "    </tr>\n",
       "    <tr>\n",
       "      <th>1</th>\n",
       "      <td>STR_R</td>\n",
       "      <td>381</td>\n",
       "      <td>2</td>\n",
       "      <td>[440.2781772, 439.6897098, 439.3496493, 439.98...</td>\n",
       "    </tr>\n",
       "    <tr>\n",
       "      <th>2</th>\n",
       "      <td>STR_L</td>\n",
       "      <td>549</td>\n",
       "      <td>1</td>\n",
       "      <td>[454.5345986, 454.9737079, 454.1015037, 454.68...</td>\n",
       "    </tr>\n",
       "    <tr>\n",
       "      <th>3</th>\n",
       "      <td>STR_L</td>\n",
       "      <td>549</td>\n",
       "      <td>2</td>\n",
       "      <td>[458.7845412, 458.2852573, 457.2784219, 457.14...</td>\n",
       "    </tr>\n",
       "    <tr>\n",
       "      <th>4</th>\n",
       "      <td>STR_L</td>\n",
       "      <td>559</td>\n",
       "      <td>1</td>\n",
       "      <td>[432.7153821, 432.6016562, 431.5527966, 431.93...</td>\n",
       "    </tr>\n",
       "  </tbody>\n",
       "</table>\n",
       "</div>"
      ],
      "text/plain": [
       "  mask_name  subj_idx  block  \\\n",
       "0     STR_R       381      1   \n",
       "1     STR_R       381      2   \n",
       "2     STR_L       549      1   \n",
       "3     STR_L       549      2   \n",
       "4     STR_L       559      1   \n",
       "\n",
       "                                              signal  \n",
       "0  [447.3622664, 447.7903752, 446.7620939, 447.12...  \n",
       "1  [440.2781772, 439.6897098, 439.3496493, 439.98...  \n",
       "2  [454.5345986, 454.9737079, 454.1015037, 454.68...  \n",
       "3  [458.7845412, 458.2852573, 457.2784219, 457.14...  \n",
       "4  [432.7153821, 432.6016562, 431.5527966, 431.93...  "
      ]
     },
     "execution_count": 6,
     "metadata": {},
     "output_type": "execute_result"
    }
   ],
   "source": [
    "df.head()"
   ]
  },
  {
   "cell_type": "code",
   "execution_count": 7,
   "metadata": {},
   "outputs": [
    {
     "data": {
      "text/plain": [
       "[<matplotlib.lines.Line2D at 0x7fd1de38a070>]"
      ]
     },
     "execution_count": 7,
     "metadata": {},
     "output_type": "execute_result"
    },
    {
     "data": {
      "image/png": "[encoded data removed]",
      "text/plain": [
       "<Figure size 432x288 with 1 Axes>"
      ]
     },
     "metadata": {
      "needs_background": "light"
     },
     "output_type": "display_data"
    }
   ],
   "source": [
    "plt.plot(df.iloc[0]['signal'])"
   ]
  },
  {
   "cell_type": "code",
   "execution_count": 8,
   "metadata": {},
   "outputs": [
    {
     "data": {
      "text/plain": [
       "[<matplotlib.lines.Line2D at 0x7fd1d6282970>]"
      ]
     },
     "execution_count": 8,
     "metadata": {},
     "output_type": "execute_result"
    },
    {
     "data": {
      "image/png": "[encoded data removed]",
      "text/plain": [
       "<Figure size 432x288 with 1 Axes>"
      ]
     },
     "metadata": {
      "needs_background": "light"
     },
     "output_type": "display_data"
    }
   ],
   "source": [
    "# alternatively, a bit obscure but you can index on the subj idx, block, and mask you're interested in\n",
    "signal = df.loc[(df.subj_idx==551) & (df.block==1) & (df.mask_name=='STR_L'), 'signal'].iloc[0]\n",
    "plt.plot(signal)"
   ]
  },
  {
   "cell_type": "markdown",
   "metadata": {},
   "source": [
    "### A look at design matrices\n",
    "Crucial to the GLM is the design matrix. The general idea is that you, as a researcher, specify when in the experiment each 'event' took place (i.e., each cue, stimulus, perhaps responses - anything that you think may elicit a BOLD response). Then, you convolve these events with the canonical hemodynamic response function. The result of this convolution is the _predicted_ timeseries.\n",
    "\n",
    "`Nilearn` is a Python package that allows you to easily create a design matrix. Before turning to the actual experiment, let's make a dummy design matrix"
   ]
  },
  {
   "cell_type": "code",
   "execution_count": 9,
   "metadata": {},
   "outputs": [
    {
     "name": "stderr",
     "output_type": "stream",
     "text": [
      "/opt/miniconda-latest/lib/python3.8/site-packages/nilearn/glm/__init__.py:55: FutureWarning: The nilearn.glm module is experimental. It may change in any future release of Nilearn.\n",
      "  warn('The nilearn.glm module is experimental. '\n"
     ]
    }
   ],
   "source": [
    "# Import some functions\n",
    "from nilearn import glm"
   ]
  },
  {
   "cell_type": "code",
   "execution_count": 10,
   "metadata": {},
   "outputs": [],
   "source": [
    "# Suppose we create a dummy experiment with 2 conditions. Each condition occurs three times in the experiment\n",
    "conditions = ['condition1'] * 3 + ['condition2'] * 3\n",
    "\n",
    "# Then, we specify *when* (time in seconds from experiment onset, start counting at 0) events took place (collapse over conditions here)\n",
    "onsets = [5, 25 , 35, 15, 30, 40]\n",
    "\n",
    "# and let's assume all events took 1 second\n",
    "duration = [1] * len(conditions)\n",
    "\n",
    "# combine\n",
    "events = pd.DataFrame({'trial_type': conditions, 'onset': onsets,\n",
    "                        'duration': duration})\n",
    "\n",
    "# You need to know the TR of the scanning sequence\n",
    "tr = 2.0\n",
    "\n",
    "# Create a vector containing all the time points at which you have a volume (i.e. 'scan'/'image')\n",
    "frame_times = np.arange(0, 50, tr)\n",
    "\n",
    "# Define the type of hemodynamic response function (hrf) you want to use -- 'glover' is the 'canonical' one\n",
    "hrf_model = 'glover'\n",
    "\n",
    "# and now we can create the design matrix\n",
    "X = glm.first_level.make_first_level_design_matrix(frame_times=frame_times, events=events, drift_model=None, hrf_model=hrf_model)"
   ]
  },
  {
   "cell_type": "markdown",
   "metadata": {},
   "source": [
    "3) Have a look at the newly created variable X. What is its shape (how many columns & rows are there)? Also, can you plot X?"
   ]
  },
  {
   "cell_type": "code",
   "execution_count": 11,
   "metadata": {},
   "outputs": [
    {
     "data": {
      "text/plain": [
       "(25, 3)"
      ]
     },
     "execution_count": 11,
     "metadata": {},
     "output_type": "execute_result"
    }
   ],
   "source": [
    "X.shape"
   ]
  },
  {
   "cell_type": "code",
   "execution_count": 12,
   "metadata": {},
   "outputs": [
    {
     "data": {
      "text/plain": [
       "[<matplotlib.lines.Line2D at 0x7fd1d4ba90d0>,\n",
       " <matplotlib.lines.Line2D at 0x7fd1d4ba9130>,\n",
       " <matplotlib.lines.Line2D at 0x7fd1d4ba9250>]"
      ]
     },
     "execution_count": 12,
     "metadata": {},
     "output_type": "execute_result"
    },
    {
     "data": {
      "image/png": "[encoded data removed]",
      "text/plain": [
       "<Figure size 432x288 with 1 Axes>"
      ]
     },
     "metadata": {
      "needs_background": "light"
     },
     "output_type": "display_data"
    }
   ],
   "source": [
    "plt.plot(X)"
   ]
  },
  {
   "cell_type": "markdown",
   "metadata": {},
   "source": [
    "The plot above is the design matrix: it contains an intercept (the line at y=1), and two predicted BOLD-responses, which we expect if we build an experiment that have events at the `onsets` specified above."
   ]
  },
  {
   "cell_type": "markdown",
   "metadata": {},
   "source": [
    "## Let's make the real design matrices\n",
    "In BIDS-format, the information about the events in the experiment is always placed together with the BOLD-nifti. That is, you can find it here:\n",
    "\n",
    "`/data/bids/sub-<subject_id>/func/sub-<subject_id>_task-SAT_run-<run_idx>_events.tsv'`  \n",
    "\n",
    "(.tsv is a tab-separated file, very much like a csv)\n",
    "\n",
    "Let's load the events of a single subject (let's take 548) and a single run/block (block 1)"
   ]
  },
  {
   "cell_type": "code",
   "execution_count": 13,
   "metadata": {},
   "outputs": [
    {
     "data": {
      "text/html": [
       "<div>\n",
       "<style scoped>\n",
       "    .dataframe tbody tr th:only-of-type {\n",
       "        vertical-align: middle;\n",
       "    }\n",
       "\n",
       "    .dataframe tbody tr th {\n",
       "        vertical-align: top;\n",
       "    }\n",
       "\n",
       "    .dataframe thead th {\n",
       "        text-align: right;\n",
       "    }\n",
       "</style>\n",
       "<table border=\"1\" class=\"dataframe\">\n",
       "  <thead>\n",
       "    <tr style=\"text-align: right;\">\n",
       "      <th></th>\n",
       "      <th>onset</th>\n",
       "      <th>duration</th>\n",
       "      <th>weight</th>\n",
       "      <th>trial_type</th>\n",
       "    </tr>\n",
       "  </thead>\n",
       "  <tbody>\n",
       "    <tr>\n",
       "      <th>0</th>\n",
       "      <td>14.1916</td>\n",
       "      <td>2</td>\n",
       "      <td>1</td>\n",
       "      <td>speed</td>\n",
       "    </tr>\n",
       "    <tr>\n",
       "      <th>1</th>\n",
       "      <td>19.2006</td>\n",
       "      <td>2</td>\n",
       "      <td>1</td>\n",
       "      <td>stimleft</td>\n",
       "    </tr>\n",
       "    <tr>\n",
       "      <th>2</th>\n",
       "      <td>28.1941</td>\n",
       "      <td>2</td>\n",
       "      <td>1</td>\n",
       "      <td>speed</td>\n",
       "    </tr>\n",
       "    <tr>\n",
       "      <th>3</th>\n",
       "      <td>42.1966</td>\n",
       "      <td>2</td>\n",
       "      <td>1</td>\n",
       "      <td>acc</td>\n",
       "    </tr>\n",
       "    <tr>\n",
       "      <th>4</th>\n",
       "      <td>46.2096</td>\n",
       "      <td>2</td>\n",
       "      <td>1</td>\n",
       "      <td>stimleft</td>\n",
       "    </tr>\n",
       "  </tbody>\n",
       "</table>\n",
       "</div>"
      ],
      "text/plain": [
       "     onset  duration  weight trial_type\n",
       "0  14.1916         2       1      speed\n",
       "1  19.2006         2       1   stimleft\n",
       "2  28.1941         2       1      speed\n",
       "3  42.1966         2       1        acc\n",
       "4  46.2096         2       1   stimleft"
      ]
     },
     "execution_count": 13,
     "metadata": {},
     "output_type": "execute_result"
    }
   ],
   "source": [
    "subj_idx = 548\n",
    "block = 1\n",
    "mask = 'STR_L'\n",
    "\n",
    "events = pd.read_csv('/data/bids/sub-%d/func/sub-%d_task-SAT_run-%d_events.tsv' %(subj_idx, subj_idx, block), sep='\\t')\n",
    "events = events[pd.notnull(events.event_type)]  # remove null trials\n",
    "events = events.rename(columns={'event_type': 'trial_type'}) # rename the 'event_type' column to 'trial_type', which nilearn expects\n",
    "\n",
    "events.head()"
   ]
  },
  {
   "cell_type": "markdown",
   "metadata": {},
   "source": [
    "`events` is now a DataFrame with four columns: onset (when in the experiment the event started), duration, weight (you can forget about this for this experiment, but this is what you would adjust if you have a parametric design), and event_type.\n",
    "\n",
    "There are 4 event types in this run: a speed cue, an acc(uracy) cue, stimulus left, stimulus right. All events took 2 seconds. Now, turning this into a design matrix..."
   ]
  },
  {
   "cell_type": "code",
   "execution_count": 14,
   "metadata": {},
   "outputs": [
    {
     "name": "stderr",
     "output_type": "stream",
     "text": [
      "/opt/miniconda-latest/lib/python3.8/site-packages/nilearn/glm/first_level/experimental_paradigm.py:89: UserWarning: Unexpected column `weight` in events data will be ignored.\n",
      "  warnings.warn((\"Unexpected column `{}` in events \"\n"
     ]
    }
   ],
   "source": [
    "tr = 1.994\n",
    "frame_times = np.arange(0, 706, tr)\n",
    "hrf_model = 'glover'\n",
    "\n",
    "X = glm.first_level.make_first_level_design_matrix(frame_times=frame_times, events=events, drift_model=None, hrf_model=hrf_model)"
   ]
  },
  {
   "cell_type": "markdown",
   "metadata": {},
   "source": [
    "Again, plot X. What are the 'conditions' here, and what are the 'onsets'?"
   ]
  },
  {
   "cell_type": "code",
   "execution_count": 15,
   "metadata": {},
   "outputs": [
    {
     "data": {
      "image/png": "[encoded data removed]",
      "text/plain": [
       "<Figure size 1440x360 with 1 Axes>"
      ]
     },
     "metadata": {
      "needs_background": "light"
     },
     "output_type": "display_data"
    }
   ],
   "source": [
    "plt.plot(X)\n",
    "\n",
    "plt.gcf().set_size_inches((20, 5))"
   ]
  },
  {
   "cell_type": "markdown",
   "metadata": {},
   "source": [
    "X is what we _expect_ a voxel does _if_ it responds to the defined events. Now, in order to assess whether or not striatum responds to these events, we fit the data to our GLM, as follows:"
   ]
  },
  {
   "cell_type": "code",
   "execution_count": 16,
   "metadata": {},
   "outputs": [
    {
     "data": {
      "text/html": [
       "<table class=\"simpletable\">\n",
       "<caption>OLS Regression Results</caption>\n",
       "<tr>\n",
       "  <th>Dep. Variable:</th>            <td>y</td>        <th>  R-squared:         </th> <td>   0.101</td>\n",
       "</tr>\n",
       "<tr>\n",
       "  <th>Model:</th>                   <td>OLS</td>       <th>  Adj. R-squared:    </th> <td>   0.090</td>\n",
       "</tr>\n",
       "<tr>\n",
       "  <th>Method:</th>             <td>Least Squares</td>  <th>  F-statistic:       </th> <td>   9.795</td>\n",
       "</tr>\n",
       "<tr>\n",
       "  <th>Date:</th>             <td>Fri, 29 Jul 2022</td> <th>  Prob (F-statistic):</th> <td>1.60e-07</td>\n",
       "</tr>\n",
       "<tr>\n",
       "  <th>Time:</th>                 <td>08:46:17</td>     <th>  Log-Likelihood:    </th> <td> -478.09</td>\n",
       "</tr>\n",
       "<tr>\n",
       "  <th>No. Observations:</th>      <td>   355</td>      <th>  AIC:               </th> <td>   966.2</td>\n",
       "</tr>\n",
       "<tr>\n",
       "  <th>Df Residuals:</th>          <td>   350</td>      <th>  BIC:               </th> <td>   985.5</td>\n",
       "</tr>\n",
       "<tr>\n",
       "  <th>Df Model:</th>              <td>     4</td>      <th>                     </th>     <td> </td>   \n",
       "</tr>\n",
       "<tr>\n",
       "  <th>Covariance Type:</th>      <td>nonrobust</td>    <th>                     </th>     <td> </td>   \n",
       "</tr>\n",
       "</table>\n",
       "<table class=\"simpletable\">\n",
       "<tr>\n",
       "      <td></td>         <th>coef</th>     <th>std err</th>      <th>t</th>      <th>P>|t|</th>  <th>[0.025</th>    <th>0.975]</th>  \n",
       "</tr>\n",
       "<tr>\n",
       "  <th>acc</th>       <td>    0.1258</td> <td>    0.344</td> <td>    0.366</td> <td> 0.715</td> <td>   -0.551</td> <td>    0.803</td>\n",
       "</tr>\n",
       "<tr>\n",
       "  <th>speed</th>     <td>    1.7244</td> <td>    0.337</td> <td>    5.110</td> <td> 0.000</td> <td>    1.061</td> <td>    2.388</td>\n",
       "</tr>\n",
       "<tr>\n",
       "  <th>stimleft</th>  <td>    1.3432</td> <td>    0.419</td> <td>    3.208</td> <td> 0.001</td> <td>    0.520</td> <td>    2.167</td>\n",
       "</tr>\n",
       "<tr>\n",
       "  <th>stimright</th> <td>    0.8617</td> <td>    0.418</td> <td>    2.061</td> <td> 0.040</td> <td>    0.039</td> <td>    1.684</td>\n",
       "</tr>\n",
       "<tr>\n",
       "  <th>constant</th>  <td>  433.1856</td> <td>    0.060</td> <td> 7167.990</td> <td> 0.000</td> <td>  433.067</td> <td>  433.304</td>\n",
       "</tr>\n",
       "</table>\n",
       "<table class=\"simpletable\">\n",
       "<tr>\n",
       "  <th>Omnibus:</th>       <td> 2.433</td> <th>  Durbin-Watson:     </th> <td>   1.060</td>\n",
       "</tr>\n",
       "<tr>\n",
       "  <th>Prob(Omnibus):</th> <td> 0.296</td> <th>  Jarque-Bera (JB):  </th> <td>   2.338</td>\n",
       "</tr>\n",
       "<tr>\n",
       "  <th>Skew:</th>          <td> 0.091</td> <th>  Prob(JB):          </th> <td>   0.311</td>\n",
       "</tr>\n",
       "<tr>\n",
       "  <th>Kurtosis:</th>      <td> 3.354</td> <th>  Cond. No.          </th> <td>    9.21</td>\n",
       "</tr>\n",
       "</table><br/><br/>Notes:<br/>[1] Standard Errors assume that the covariance matrix of the errors is correctly specified."
      ],
      "text/plain": [
       "<class 'statsmodels.iolib.summary.Summary'>\n",
       "\"\"\"\n",
       "                            OLS Regression Results                            \n",
       "==============================================================================\n",
       "Dep. Variable:                      y   R-squared:                       0.101\n",
       "Model:                            OLS   Adj. R-squared:                  0.090\n",
       "Method:                 Least Squares   F-statistic:                     9.795\n",
       "Date:                Fri, 29 Jul 2022   Prob (F-statistic):           1.60e-07\n",
       "Time:                        08:46:17   Log-Likelihood:                -478.09\n",
       "No. Observations:                 355   AIC:                             966.2\n",
       "Df Residuals:                     350   BIC:                             985.5\n",
       "Df Model:                           4                                         \n",
       "Covariance Type:            nonrobust                                         \n",
       "==============================================================================\n",
       "                 coef    std err          t      P>|t|      [0.025      0.975]\n",
       "------------------------------------------------------------------------------\n",
       "acc            0.1258      0.344      0.366      0.715      -0.551       0.803\n",
       "speed          1.7244      0.337      5.110      0.000       1.061       2.388\n",
       "stimleft       1.3432      0.419      3.208      0.001       0.520       2.167\n",
       "stimright      0.8617      0.418      2.061      0.040       0.039       1.684\n",
       "constant     433.1856      0.060   7167.990      0.000     433.067     433.304\n",
       "==============================================================================\n",
       "Omnibus:                        2.433   Durbin-Watson:                   1.060\n",
       "Prob(Omnibus):                  0.296   Jarque-Bera (JB):                2.338\n",
       "Skew:                           0.091   Prob(JB):                        0.311\n",
       "Kurtosis:                       3.354   Cond. No.                         9.21\n",
       "==============================================================================\n",
       "\n",
       "Notes:\n",
       "[1] Standard Errors assume that the covariance matrix of the errors is correctly specified.\n",
       "\"\"\""
      ]
     },
     "execution_count": 16,
     "metadata": {},
     "output_type": "execute_result"
    }
   ],
   "source": [
    "import statsmodels.api as sm\n",
    "Y = df[(df.subj_idx == subj_idx) & (df.block == block) & (df.mask_name == mask)].iloc[0].signal\n",
    "model = sm.OLS(Y, X)\n",
    "r = model.fit()\n",
    "r.summary()"
   ]
  },
  {
   "cell_type": "markdown",
   "metadata": {},
   "source": [
    "5) Interpret these results"
   ]
  },
  {
   "cell_type": "markdown",
   "metadata": {},
   "source": [
    "*Especially interesting are the coefficients and corresponding standard errors, t-values, and p-values. These indicate how large the BOLD-response was after each of the event types. For this subject and block, it seems that the speed condition activated striatum, but not the accuracy condition. (Did you expect this?)*\n",
    "\n",
    "*Note also that the variance explained by the model is not a lot ($R^2$ is 0.101), which is quite typical for fMRI studies. We can also plot the quality of the fit to visualize this*"
   ]
  },
  {
   "cell_type": "code",
   "execution_count": 17,
   "metadata": {},
   "outputs": [
    {
     "data": {
      "text/plain": [
       "[<matplotlib.lines.Line2D at 0x7fd1ce1b9f10>]"
      ]
     },
     "execution_count": 17,
     "metadata": {},
     "output_type": "execute_result"
    },
    {
     "data": {
      "image/png": "[encoded data removed]",
      "text/plain": [
       "<Figure size 432x288 with 1 Axes>"
      ]
     },
     "metadata": {
      "needs_background": "light"
     },
     "output_type": "display_data"
    }
   ],
   "source": [
    "plt.plot(Y)\n",
    "plt.plot(model.predict(r.params))"
   ]
  },
  {
   "cell_type": "markdown",
   "metadata": {},
   "source": [
    "Now, we want to fit the GLM for all participants & blocks & masks. In the following function, we create the design matrix for each subject/mask/block, and fit the GLM.\n",
    "\n",
    "6) Create a function that receives the subj_idx, block, and mask as arguments, and returns the beta-values of a fitted glm. (Most of this is copying the previous cells)"
   ]
  },
  {
   "cell_type": "code",
   "execution_count": 18,
   "metadata": {},
   "outputs": [],
   "source": [
    "def fit_glm(subj_idx, block, mask):\n",
    "    \n",
    "    events = pd.read_csv('/data/bids/sub-%d/func/sub-%d_task-SAT_run-%d_events.tsv' %(subj_idx, subj_idx, block), sep='\\t')\n",
    "    events = events[pd.notnull(events.event_type)]  # remove null trials    \n",
    "    events = events[(events.event_type == 'speed') | (events.event_type == 'acc')]  # remove null trials\n",
    "    events = events.rename(columns={'event_type': 'trial_type'})\n",
    "    del events['weight']  # not used\n",
    "    \n",
    "    # print(events)\n",
    "    Y = df[(df.subj_idx == subj_idx) & (df.block == block) & (df.mask_name == mask)].iloc[0].signal\n",
    "    \n",
    "    tr = 1.994\n",
    "    frame_times = np.arange(0, len(Y)*tr, tr)\n",
    "    hrf_model = 'glover'\n",
    "\n",
    "    X = glm.first_level.make_first_level_design_matrix(frame_times=frame_times, events=events, drift_model=None, hrf_model=hrf_model)\n",
    "    \n",
    "    model = sm.OLS(Y, X)\n",
    "    r = model.fit()\n",
    "    \n",
    "    return r.params"
   ]
  },
  {
   "cell_type": "markdown",
   "metadata": {},
   "source": [
    "If your function is correct, running the following cell should give the beta values for acc (-0.042226), speed (1.388421), and a constant (418.537448)"
   ]
  },
  {
   "cell_type": "code",
   "execution_count": 19,
   "metadata": {},
   "outputs": [
    {
     "data": {
      "text/plain": [
       "acc          -0.042226\n",
       "speed         1.388421\n",
       "constant    418.537448\n",
       "dtype: float64"
      ]
     },
     "execution_count": 19,
     "metadata": {},
     "output_type": "execute_result"
    }
   ],
   "source": [
    "fit_glm(548, 1, 'STR_R')"
   ]
  },
  {
   "cell_type": "code",
   "execution_count": 20,
   "metadata": {},
   "outputs": [],
   "source": [
    "results = []\n",
    "\n",
    "for fn in fns:\n",
    "    subj_idx = int(reg.match(fn).groupdict()['subj_idx'])\n",
    "    block = int(reg.match(fn).groupdict()['block'])\n",
    "    for mask in ['STR_L', 'STR_R']:\n",
    "        r = fit_glm(subj_idx, block, mask)\n",
    "        \n",
    "        for condition in ['acc', 'speed']:\n",
    "            d = {}\n",
    "            d['subj_idx'] = subj_idx\n",
    "            d['mask_name'] = mask\n",
    "            d['block'] = block\n",
    "            d['condition'] = condition\n",
    "            d['value'] = r[condition]\n",
    "            results.append(d)\n",
    "\n",
    "results = pd.DataFrame(results)"
   ]
  },
  {
   "cell_type": "markdown",
   "metadata": {},
   "source": [
    "Have a look at the `results` DataFrame. "
   ]
  },
  {
   "cell_type": "code",
   "execution_count": 21,
   "metadata": {},
   "outputs": [
    {
     "data": {
      "text/html": [
       "<div>\n",
       "<style scoped>\n",
       "    .dataframe tbody tr th:only-of-type {\n",
       "        vertical-align: middle;\n",
       "    }\n",
       "\n",
       "    .dataframe tbody tr th {\n",
       "        vertical-align: top;\n",
       "    }\n",
       "\n",
       "    .dataframe thead th {\n",
       "        text-align: right;\n",
       "    }\n",
       "</style>\n",
       "<table border=\"1\" class=\"dataframe\">\n",
       "  <thead>\n",
       "    <tr style=\"text-align: right;\">\n",
       "      <th></th>\n",
       "      <th>subj_idx</th>\n",
       "      <th>mask_name</th>\n",
       "      <th>block</th>\n",
       "      <th>condition</th>\n",
       "      <th>value</th>\n",
       "    </tr>\n",
       "  </thead>\n",
       "  <tbody>\n",
       "    <tr>\n",
       "      <th>0</th>\n",
       "      <td>381</td>\n",
       "      <td>STR_L</td>\n",
       "      <td>1</td>\n",
       "      <td>acc</td>\n",
       "      <td>0.685260</td>\n",
       "    </tr>\n",
       "    <tr>\n",
       "      <th>1</th>\n",
       "      <td>381</td>\n",
       "      <td>STR_L</td>\n",
       "      <td>1</td>\n",
       "      <td>speed</td>\n",
       "      <td>0.122743</td>\n",
       "    </tr>\n",
       "    <tr>\n",
       "      <th>2</th>\n",
       "      <td>381</td>\n",
       "      <td>STR_R</td>\n",
       "      <td>1</td>\n",
       "      <td>acc</td>\n",
       "      <td>-1.097877</td>\n",
       "    </tr>\n",
       "    <tr>\n",
       "      <th>3</th>\n",
       "      <td>381</td>\n",
       "      <td>STR_R</td>\n",
       "      <td>1</td>\n",
       "      <td>speed</td>\n",
       "      <td>-0.386459</td>\n",
       "    </tr>\n",
       "    <tr>\n",
       "      <th>4</th>\n",
       "      <td>381</td>\n",
       "      <td>STR_L</td>\n",
       "      <td>2</td>\n",
       "      <td>acc</td>\n",
       "      <td>0.317054</td>\n",
       "    </tr>\n",
       "    <tr>\n",
       "      <th>...</th>\n",
       "      <td>...</td>\n",
       "      <td>...</td>\n",
       "      <td>...</td>\n",
       "      <td>...</td>\n",
       "      <td>...</td>\n",
       "    </tr>\n",
       "    <tr>\n",
       "      <th>267</th>\n",
       "      <td>555</td>\n",
       "      <td>STR_R</td>\n",
       "      <td>1</td>\n",
       "      <td>speed</td>\n",
       "      <td>-0.021113</td>\n",
       "    </tr>\n",
       "    <tr>\n",
       "      <th>268</th>\n",
       "      <td>555</td>\n",
       "      <td>STR_L</td>\n",
       "      <td>2</td>\n",
       "      <td>acc</td>\n",
       "      <td>0.005255</td>\n",
       "    </tr>\n",
       "    <tr>\n",
       "      <th>269</th>\n",
       "      <td>555</td>\n",
       "      <td>STR_L</td>\n",
       "      <td>2</td>\n",
       "      <td>speed</td>\n",
       "      <td>-0.121944</td>\n",
       "    </tr>\n",
       "    <tr>\n",
       "      <th>270</th>\n",
       "      <td>555</td>\n",
       "      <td>STR_R</td>\n",
       "      <td>2</td>\n",
       "      <td>acc</td>\n",
       "      <td>-0.118773</td>\n",
       "    </tr>\n",
       "    <tr>\n",
       "      <th>271</th>\n",
       "      <td>555</td>\n",
       "      <td>STR_R</td>\n",
       "      <td>2</td>\n",
       "      <td>speed</td>\n",
       "      <td>-0.157395</td>\n",
       "    </tr>\n",
       "  </tbody>\n",
       "</table>\n",
       "<p>272 rows × 5 columns</p>\n",
       "</div>"
      ],
      "text/plain": [
       "     subj_idx mask_name  block condition     value\n",
       "0         381     STR_L      1       acc  0.685260\n",
       "1         381     STR_L      1     speed  0.122743\n",
       "2         381     STR_R      1       acc -1.097877\n",
       "3         381     STR_R      1     speed -0.386459\n",
       "4         381     STR_L      2       acc  0.317054\n",
       "..        ...       ...    ...       ...       ...\n",
       "267       555     STR_R      1     speed -0.021113\n",
       "268       555     STR_L      2       acc  0.005255\n",
       "269       555     STR_L      2     speed -0.121944\n",
       "270       555     STR_R      2       acc -0.118773\n",
       "271       555     STR_R      2     speed -0.157395\n",
       "\n",
       "[272 rows x 5 columns]"
      ]
     },
     "execution_count": 21,
     "metadata": {},
     "output_type": "execute_result"
    }
   ],
   "source": [
    "results"
   ]
  },
  {
   "cell_type": "markdown",
   "metadata": {},
   "source": [
    "Alright, in the above cells we fitted a GLM for each subject & block & mask combination. Next, we want to combine these results with the behavioral results. In order to do this, it's useful to first transform the shape of the data frame a little bit."
   ]
  },
  {
   "cell_type": "code",
   "execution_count": 22,
   "metadata": {},
   "outputs": [
    {
     "data": {
      "text/html": [
       "<div>\n",
       "<style scoped>\n",
       "    .dataframe tbody tr th:only-of-type {\n",
       "        vertical-align: middle;\n",
       "    }\n",
       "\n",
       "    .dataframe tbody tr th {\n",
       "        vertical-align: top;\n",
       "    }\n",
       "\n",
       "    .dataframe thead tr th {\n",
       "        text-align: left;\n",
       "    }\n",
       "\n",
       "    .dataframe thead tr:last-of-type th {\n",
       "        text-align: right;\n",
       "    }\n",
       "</style>\n",
       "<table border=\"1\" class=\"dataframe\">\n",
       "  <thead>\n",
       "    <tr>\n",
       "      <th>condition</th>\n",
       "      <th colspan=\"2\" halign=\"left\">acc</th>\n",
       "      <th colspan=\"2\" halign=\"left\">speed</th>\n",
       "    </tr>\n",
       "    <tr>\n",
       "      <th>mask_name</th>\n",
       "      <th>STR_L</th>\n",
       "      <th>STR_R</th>\n",
       "      <th>STR_L</th>\n",
       "      <th>STR_R</th>\n",
       "    </tr>\n",
       "    <tr>\n",
       "      <th>subj_idx</th>\n",
       "      <th></th>\n",
       "      <th></th>\n",
       "      <th></th>\n",
       "      <th></th>\n",
       "    </tr>\n",
       "  </thead>\n",
       "  <tbody>\n",
       "    <tr>\n",
       "      <th>197</th>\n",
       "      <td>0.737896</td>\n",
       "      <td>0.842720</td>\n",
       "      <td>1.313730</td>\n",
       "      <td>1.119698</td>\n",
       "    </tr>\n",
       "    <tr>\n",
       "      <th>372</th>\n",
       "      <td>1.024637</td>\n",
       "      <td>0.960727</td>\n",
       "      <td>1.493986</td>\n",
       "      <td>1.272187</td>\n",
       "    </tr>\n",
       "    <tr>\n",
       "      <th>381</th>\n",
       "      <td>0.501157</td>\n",
       "      <td>-0.380483</td>\n",
       "      <td>0.513216</td>\n",
       "      <td>0.391880</td>\n",
       "    </tr>\n",
       "    <tr>\n",
       "      <th>471</th>\n",
       "      <td>0.487786</td>\n",
       "      <td>0.634646</td>\n",
       "      <td>0.778138</td>\n",
       "      <td>0.572152</td>\n",
       "    </tr>\n",
       "    <tr>\n",
       "      <th>483</th>\n",
       "      <td>0.557322</td>\n",
       "      <td>0.336905</td>\n",
       "      <td>2.009362</td>\n",
       "      <td>1.549082</td>\n",
       "    </tr>\n",
       "    <tr>\n",
       "      <th>498</th>\n",
       "      <td>0.865378</td>\n",
       "      <td>1.112544</td>\n",
       "      <td>1.030914</td>\n",
       "      <td>0.352001</td>\n",
       "    </tr>\n",
       "    <tr>\n",
       "      <th>523</th>\n",
       "      <td>-0.168055</td>\n",
       "      <td>-0.308861</td>\n",
       "      <td>0.207014</td>\n",
       "      <td>0.179682</td>\n",
       "    </tr>\n",
       "    <tr>\n",
       "      <th>544</th>\n",
       "      <td>1.246345</td>\n",
       "      <td>1.556859</td>\n",
       "      <td>1.777654</td>\n",
       "      <td>2.050849</td>\n",
       "    </tr>\n",
       "    <tr>\n",
       "      <th>548</th>\n",
       "      <td>0.638468</td>\n",
       "      <td>0.419053</td>\n",
       "      <td>1.098094</td>\n",
       "      <td>0.604312</td>\n",
       "    </tr>\n",
       "    <tr>\n",
       "      <th>549</th>\n",
       "      <td>0.096149</td>\n",
       "      <td>-0.018769</td>\n",
       "      <td>1.011126</td>\n",
       "      <td>0.791166</td>\n",
       "    </tr>\n",
       "    <tr>\n",
       "      <th>551</th>\n",
       "      <td>1.787803</td>\n",
       "      <td>1.406199</td>\n",
       "      <td>3.718001</td>\n",
       "      <td>3.634409</td>\n",
       "    </tr>\n",
       "    <tr>\n",
       "      <th>552</th>\n",
       "      <td>0.792772</td>\n",
       "      <td>0.712381</td>\n",
       "      <td>1.968366</td>\n",
       "      <td>1.390615</td>\n",
       "    </tr>\n",
       "    <tr>\n",
       "      <th>553</th>\n",
       "      <td>-0.236456</td>\n",
       "      <td>-0.000826</td>\n",
       "      <td>2.633961</td>\n",
       "      <td>2.851121</td>\n",
       "    </tr>\n",
       "    <tr>\n",
       "      <th>554</th>\n",
       "      <td>1.832340</td>\n",
       "      <td>1.111263</td>\n",
       "      <td>3.109406</td>\n",
       "      <td>2.506000</td>\n",
       "    </tr>\n",
       "    <tr>\n",
       "      <th>555</th>\n",
       "      <td>-0.179239</td>\n",
       "      <td>-0.205768</td>\n",
       "      <td>-0.093578</td>\n",
       "      <td>-0.089254</td>\n",
       "    </tr>\n",
       "    <tr>\n",
       "      <th>558</th>\n",
       "      <td>0.800688</td>\n",
       "      <td>0.377785</td>\n",
       "      <td>2.180823</td>\n",
       "      <td>2.039325</td>\n",
       "    </tr>\n",
       "    <tr>\n",
       "      <th>559</th>\n",
       "      <td>0.647476</td>\n",
       "      <td>0.483475</td>\n",
       "      <td>0.227690</td>\n",
       "      <td>0.186509</td>\n",
       "    </tr>\n",
       "  </tbody>\n",
       "</table>\n",
       "</div>"
      ],
      "text/plain": [
       "condition       acc               speed          \n",
       "mask_name     STR_L     STR_R     STR_L     STR_R\n",
       "subj_idx                                         \n",
       "197        0.737896  0.842720  1.313730  1.119698\n",
       "372        1.024637  0.960727  1.493986  1.272187\n",
       "381        0.501157 -0.380483  0.513216  0.391880\n",
       "471        0.487786  0.634646  0.778138  0.572152\n",
       "483        0.557322  0.336905  2.009362  1.549082\n",
       "498        0.865378  1.112544  1.030914  0.352001\n",
       "523       -0.168055 -0.308861  0.207014  0.179682\n",
       "544        1.246345  1.556859  1.777654  2.050849\n",
       "548        0.638468  0.419053  1.098094  0.604312\n",
       "549        0.096149 -0.018769  1.011126  0.791166\n",
       "551        1.787803  1.406199  3.718001  3.634409\n",
       "552        0.792772  0.712381  1.968366  1.390615\n",
       "553       -0.236456 -0.000826  2.633961  2.851121\n",
       "554        1.832340  1.111263  3.109406  2.506000\n",
       "555       -0.179239 -0.205768 -0.093578 -0.089254\n",
       "558        0.800688  0.377785  2.180823  2.039325\n",
       "559        0.647476  0.483475  0.227690  0.186509"
      ]
     },
     "execution_count": 22,
     "metadata": {},
     "output_type": "execute_result"
    }
   ],
   "source": [
    "neural_results = results.pivot_table(values='value', columns=['condition', 'mask_name'], index=['subj_idx'])\n",
    "neural_results"
   ]
  },
  {
   "cell_type": "markdown",
   "metadata": {},
   "source": [
    "7) What did the cell above do?"
   ]
  },
  {
   "cell_type": "markdown",
   "metadata": {},
   "source": [
    "The dataframe was reshaped and now has subject idx as index, and each cell contains a beta parameter for a mask/cue-combination. Further note that the information of the two blocks was meaned for each subject & mask."
   ]
  },
  {
   "cell_type": "markdown",
   "metadata": {},
   "source": [
    "Now we need to load the behavioral parameters"
   ]
  },
  {
   "cell_type": "code",
   "execution_count": 23,
   "metadata": {},
   "outputs": [
    {
     "data": {
      "text/html": [
       "<div>\n",
       "<style scoped>\n",
       "    .dataframe tbody tr th:only-of-type {\n",
       "        vertical-align: middle;\n",
       "    }\n",
       "\n",
       "    .dataframe tbody tr th {\n",
       "        vertical-align: top;\n",
       "    }\n",
       "\n",
       "    .dataframe thead th {\n",
       "        text-align: right;\n",
       "    }\n",
       "</style>\n",
       "<table border=\"1\" class=\"dataframe\">\n",
       "  <thead>\n",
       "    <tr style=\"text-align: right;\">\n",
       "      <th></th>\n",
       "      <th>v</th>\n",
       "      <th>v_lMd</th>\n",
       "      <th>B_Eacc-spd</th>\n",
       "      <th>A</th>\n",
       "      <th>t0</th>\n",
       "      <th>response_caution_diff</th>\n",
       "    </tr>\n",
       "    <tr>\n",
       "      <th>subj_idx</th>\n",
       "      <th></th>\n",
       "      <th></th>\n",
       "      <th></th>\n",
       "      <th></th>\n",
       "      <th></th>\n",
       "      <th></th>\n",
       "    </tr>\n",
       "  </thead>\n",
       "  <tbody>\n",
       "    <tr>\n",
       "      <th>197</th>\n",
       "      <td>2.413879</td>\n",
       "      <td>2.191440</td>\n",
       "      <td>18.944341</td>\n",
       "      <td>0.992009</td>\n",
       "      <td>0.216010</td>\n",
       "      <td>19.440345</td>\n",
       "    </tr>\n",
       "    <tr>\n",
       "      <th>372</th>\n",
       "      <td>2.412962</td>\n",
       "      <td>2.672608</td>\n",
       "      <td>22.173747</td>\n",
       "      <td>1.047326</td>\n",
       "      <td>0.236527</td>\n",
       "      <td>22.697411</td>\n",
       "    </tr>\n",
       "    <tr>\n",
       "      <th>381</th>\n",
       "      <td>2.229086</td>\n",
       "      <td>1.035032</td>\n",
       "      <td>6.832215</td>\n",
       "      <td>1.459094</td>\n",
       "      <td>0.270507</td>\n",
       "      <td>7.561762</td>\n",
       "    </tr>\n",
       "    <tr>\n",
       "      <th>471</th>\n",
       "      <td>2.012071</td>\n",
       "      <td>0.692405</td>\n",
       "      <td>33.025210</td>\n",
       "      <td>0.701542</td>\n",
       "      <td>0.255210</td>\n",
       "      <td>33.375981</td>\n",
       "    </tr>\n",
       "    <tr>\n",
       "      <th>483</th>\n",
       "      <td>2.030483</td>\n",
       "      <td>1.739173</td>\n",
       "      <td>18.403944</td>\n",
       "      <td>1.005639</td>\n",
       "      <td>0.232920</td>\n",
       "      <td>18.906763</td>\n",
       "    </tr>\n",
       "    <tr>\n",
       "      <th>498</th>\n",
       "      <td>2.110133</td>\n",
       "      <td>1.063324</td>\n",
       "      <td>13.249969</td>\n",
       "      <td>1.134408</td>\n",
       "      <td>0.252157</td>\n",
       "      <td>13.817173</td>\n",
       "    </tr>\n",
       "    <tr>\n",
       "      <th>523</th>\n",
       "      <td>2.220598</td>\n",
       "      <td>2.000645</td>\n",
       "      <td>18.663891</td>\n",
       "      <td>1.107035</td>\n",
       "      <td>0.235048</td>\n",
       "      <td>19.217409</td>\n",
       "    </tr>\n",
       "    <tr>\n",
       "      <th>544</th>\n",
       "      <td>2.164288</td>\n",
       "      <td>2.102854</td>\n",
       "      <td>17.794701</td>\n",
       "      <td>1.266620</td>\n",
       "      <td>0.234347</td>\n",
       "      <td>18.428012</td>\n",
       "    </tr>\n",
       "    <tr>\n",
       "      <th>548</th>\n",
       "      <td>1.932352</td>\n",
       "      <td>1.383561</td>\n",
       "      <td>16.662635</td>\n",
       "      <td>0.970326</td>\n",
       "      <td>0.292100</td>\n",
       "      <td>17.147797</td>\n",
       "    </tr>\n",
       "    <tr>\n",
       "      <th>549</th>\n",
       "      <td>2.153714</td>\n",
       "      <td>1.843414</td>\n",
       "      <td>14.133648</td>\n",
       "      <td>1.307468</td>\n",
       "      <td>0.291797</td>\n",
       "      <td>14.787382</td>\n",
       "    </tr>\n",
       "    <tr>\n",
       "      <th>551</th>\n",
       "      <td>2.292584</td>\n",
       "      <td>2.348189</td>\n",
       "      <td>11.431759</td>\n",
       "      <td>0.853684</td>\n",
       "      <td>0.313003</td>\n",
       "      <td>11.858601</td>\n",
       "    </tr>\n",
       "    <tr>\n",
       "      <th>552</th>\n",
       "      <td>2.124467</td>\n",
       "      <td>1.589512</td>\n",
       "      <td>25.243879</td>\n",
       "      <td>0.941584</td>\n",
       "      <td>0.215730</td>\n",
       "      <td>25.714671</td>\n",
       "    </tr>\n",
       "    <tr>\n",
       "      <th>553</th>\n",
       "      <td>2.571063</td>\n",
       "      <td>3.161722</td>\n",
       "      <td>3.910879</td>\n",
       "      <td>1.065550</td>\n",
       "      <td>0.284582</td>\n",
       "      <td>4.443654</td>\n",
       "    </tr>\n",
       "    <tr>\n",
       "      <th>554</th>\n",
       "      <td>2.434293</td>\n",
       "      <td>1.731577</td>\n",
       "      <td>15.562894</td>\n",
       "      <td>0.864851</td>\n",
       "      <td>0.236535</td>\n",
       "      <td>15.995320</td>\n",
       "    </tr>\n",
       "    <tr>\n",
       "      <th>555</th>\n",
       "      <td>2.165519</td>\n",
       "      <td>1.349271</td>\n",
       "      <td>17.791378</td>\n",
       "      <td>1.200972</td>\n",
       "      <td>0.234041</td>\n",
       "      <td>18.391864</td>\n",
       "    </tr>\n",
       "    <tr>\n",
       "      <th>558</th>\n",
       "      <td>2.153692</td>\n",
       "      <td>1.555369</td>\n",
       "      <td>12.046659</td>\n",
       "      <td>1.104507</td>\n",
       "      <td>0.312907</td>\n",
       "      <td>12.598913</td>\n",
       "    </tr>\n",
       "    <tr>\n",
       "      <th>559</th>\n",
       "      <td>2.101427</td>\n",
       "      <td>2.672596</td>\n",
       "      <td>14.879668</td>\n",
       "      <td>2.250810</td>\n",
       "      <td>0.269773</td>\n",
       "      <td>16.005074</td>\n",
       "    </tr>\n",
       "  </tbody>\n",
       "</table>\n",
       "</div>"
      ],
      "text/plain": [
       "                 v     v_lMd  B_Eacc-spd         A        t0  \\\n",
       "subj_idx                                                       \n",
       "197       2.413879  2.191440   18.944341  0.992009  0.216010   \n",
       "372       2.412962  2.672608   22.173747  1.047326  0.236527   \n",
       "381       2.229086  1.035032    6.832215  1.459094  0.270507   \n",
       "471       2.012071  0.692405   33.025210  0.701542  0.255210   \n",
       "483       2.030483  1.739173   18.403944  1.005639  0.232920   \n",
       "498       2.110133  1.063324   13.249969  1.134408  0.252157   \n",
       "523       2.220598  2.000645   18.663891  1.107035  0.235048   \n",
       "544       2.164288  2.102854   17.794701  1.266620  0.234347   \n",
       "548       1.932352  1.383561   16.662635  0.970326  0.292100   \n",
       "549       2.153714  1.843414   14.133648  1.307468  0.291797   \n",
       "551       2.292584  2.348189   11.431759  0.853684  0.313003   \n",
       "552       2.124467  1.589512   25.243879  0.941584  0.215730   \n",
       "553       2.571063  3.161722    3.910879  1.065550  0.284582   \n",
       "554       2.434293  1.731577   15.562894  0.864851  0.236535   \n",
       "555       2.165519  1.349271   17.791378  1.200972  0.234041   \n",
       "558       2.153692  1.555369   12.046659  1.104507  0.312907   \n",
       "559       2.101427  2.672596   14.879668  2.250810  0.269773   \n",
       "\n",
       "          response_caution_diff  \n",
       "subj_idx                         \n",
       "197                   19.440345  \n",
       "372                   22.697411  \n",
       "381                    7.561762  \n",
       "471                   33.375981  \n",
       "483                   18.906763  \n",
       "498                   13.817173  \n",
       "523                   19.217409  \n",
       "544                   18.428012  \n",
       "548                   17.147797  \n",
       "549                   14.787382  \n",
       "551                   11.858601  \n",
       "552                   25.714671  \n",
       "553                    4.443654  \n",
       "554                   15.995320  \n",
       "555                   18.391864  \n",
       "558                   12.598913  \n",
       "559                   16.005074  "
      ]
     },
     "execution_count": 23,
     "metadata": {},
     "output_type": "execute_result"
    }
   ],
   "source": [
    "behavioral_results = pd.read_csv('/data/behavior_fits/parameters_per_subject_lba_B_emc_group.csv', index_col=0)\n",
    "behavioral_results.rename(columns={'subjects': 'subj_idx'}, inplace=True)\n",
    "\n",
    "# # Get only threshold\n",
    "behavioral_results = behavioral_results.set_index('subj_idx')\n",
    "behavioral_results\n",
    "\n",
    "behavioral_results['response_caution_diff'] = behavioral_results['B_Eacc-spd']+behavioral_results['A']/2\n",
    "behavioral_results"
   ]
  },
  {
   "cell_type": "markdown",
   "metadata": {},
   "source": [
    "We can combine the behavioral & neural data as follows"
   ]
  },
  {
   "cell_type": "code",
   "execution_count": 24,
   "metadata": {},
   "outputs": [
    {
     "name": "stderr",
     "output_type": "stream",
     "text": [
      "/tmp/ipykernel_1124886/3019626250.py:1: FutureWarning: merging between different levels is deprecated and will be removed in a future version. (2 levels on the left, 1 on the right)\n",
      "  combined_data = pd.merge(neural_results, behavioral_results, left_index=True, right_index=True)\n"
     ]
    },
    {
     "data": {
      "text/html": [
       "<div>\n",
       "<style scoped>\n",
       "    .dataframe tbody tr th:only-of-type {\n",
       "        vertical-align: middle;\n",
       "    }\n",
       "\n",
       "    .dataframe tbody tr th {\n",
       "        vertical-align: top;\n",
       "    }\n",
       "\n",
       "    .dataframe thead th {\n",
       "        text-align: right;\n",
       "    }\n",
       "</style>\n",
       "<table border=\"1\" class=\"dataframe\">\n",
       "  <thead>\n",
       "    <tr style=\"text-align: right;\">\n",
       "      <th></th>\n",
       "      <th>(acc, STR_L)</th>\n",
       "      <th>(acc, STR_R)</th>\n",
       "      <th>(speed, STR_L)</th>\n",
       "      <th>(speed, STR_R)</th>\n",
       "      <th>v</th>\n",
       "      <th>v_lMd</th>\n",
       "      <th>B_Eacc-spd</th>\n",
       "      <th>A</th>\n",
       "      <th>t0</th>\n",
       "      <th>response_caution_diff</th>\n",
       "    </tr>\n",
       "    <tr>\n",
       "      <th>subj_idx</th>\n",
       "      <th></th>\n",
       "      <th></th>\n",
       "      <th></th>\n",
       "      <th></th>\n",
       "      <th></th>\n",
       "      <th></th>\n",
       "      <th></th>\n",
       "      <th></th>\n",
       "      <th></th>\n",
       "      <th></th>\n",
       "    </tr>\n",
       "  </thead>\n",
       "  <tbody>\n",
       "    <tr>\n",
       "      <th>197</th>\n",
       "      <td>0.737896</td>\n",
       "      <td>0.842720</td>\n",
       "      <td>1.313730</td>\n",
       "      <td>1.119698</td>\n",
       "      <td>2.413879</td>\n",
       "      <td>2.191440</td>\n",
       "      <td>18.944341</td>\n",
       "      <td>0.992009</td>\n",
       "      <td>0.216010</td>\n",
       "      <td>19.440345</td>\n",
       "    </tr>\n",
       "    <tr>\n",
       "      <th>372</th>\n",
       "      <td>1.024637</td>\n",
       "      <td>0.960727</td>\n",
       "      <td>1.493986</td>\n",
       "      <td>1.272187</td>\n",
       "      <td>2.412962</td>\n",
       "      <td>2.672608</td>\n",
       "      <td>22.173747</td>\n",
       "      <td>1.047326</td>\n",
       "      <td>0.236527</td>\n",
       "      <td>22.697411</td>\n",
       "    </tr>\n",
       "    <tr>\n",
       "      <th>381</th>\n",
       "      <td>0.501157</td>\n",
       "      <td>-0.380483</td>\n",
       "      <td>0.513216</td>\n",
       "      <td>0.391880</td>\n",
       "      <td>2.229086</td>\n",
       "      <td>1.035032</td>\n",
       "      <td>6.832215</td>\n",
       "      <td>1.459094</td>\n",
       "      <td>0.270507</td>\n",
       "      <td>7.561762</td>\n",
       "    </tr>\n",
       "    <tr>\n",
       "      <th>471</th>\n",
       "      <td>0.487786</td>\n",
       "      <td>0.634646</td>\n",
       "      <td>0.778138</td>\n",
       "      <td>0.572152</td>\n",
       "      <td>2.012071</td>\n",
       "      <td>0.692405</td>\n",
       "      <td>33.025210</td>\n",
       "      <td>0.701542</td>\n",
       "      <td>0.255210</td>\n",
       "      <td>33.375981</td>\n",
       "    </tr>\n",
       "    <tr>\n",
       "      <th>483</th>\n",
       "      <td>0.557322</td>\n",
       "      <td>0.336905</td>\n",
       "      <td>2.009362</td>\n",
       "      <td>1.549082</td>\n",
       "      <td>2.030483</td>\n",
       "      <td>1.739173</td>\n",
       "      <td>18.403944</td>\n",
       "      <td>1.005639</td>\n",
       "      <td>0.232920</td>\n",
       "      <td>18.906763</td>\n",
       "    </tr>\n",
       "    <tr>\n",
       "      <th>498</th>\n",
       "      <td>0.865378</td>\n",
       "      <td>1.112544</td>\n",
       "      <td>1.030914</td>\n",
       "      <td>0.352001</td>\n",
       "      <td>2.110133</td>\n",
       "      <td>1.063324</td>\n",
       "      <td>13.249969</td>\n",
       "      <td>1.134408</td>\n",
       "      <td>0.252157</td>\n",
       "      <td>13.817173</td>\n",
       "    </tr>\n",
       "    <tr>\n",
       "      <th>523</th>\n",
       "      <td>-0.168055</td>\n",
       "      <td>-0.308861</td>\n",
       "      <td>0.207014</td>\n",
       "      <td>0.179682</td>\n",
       "      <td>2.220598</td>\n",
       "      <td>2.000645</td>\n",
       "      <td>18.663891</td>\n",
       "      <td>1.107035</td>\n",
       "      <td>0.235048</td>\n",
       "      <td>19.217409</td>\n",
       "    </tr>\n",
       "    <tr>\n",
       "      <th>544</th>\n",
       "      <td>1.246345</td>\n",
       "      <td>1.556859</td>\n",
       "      <td>1.777654</td>\n",
       "      <td>2.050849</td>\n",
       "      <td>2.164288</td>\n",
       "      <td>2.102854</td>\n",
       "      <td>17.794701</td>\n",
       "      <td>1.266620</td>\n",
       "      <td>0.234347</td>\n",
       "      <td>18.428012</td>\n",
       "    </tr>\n",
       "    <tr>\n",
       "      <th>548</th>\n",
       "      <td>0.638468</td>\n",
       "      <td>0.419053</td>\n",
       "      <td>1.098094</td>\n",
       "      <td>0.604312</td>\n",
       "      <td>1.932352</td>\n",
       "      <td>1.383561</td>\n",
       "      <td>16.662635</td>\n",
       "      <td>0.970326</td>\n",
       "      <td>0.292100</td>\n",
       "      <td>17.147797</td>\n",
       "    </tr>\n",
       "    <tr>\n",
       "      <th>549</th>\n",
       "      <td>0.096149</td>\n",
       "      <td>-0.018769</td>\n",
       "      <td>1.011126</td>\n",
       "      <td>0.791166</td>\n",
       "      <td>2.153714</td>\n",
       "      <td>1.843414</td>\n",
       "      <td>14.133648</td>\n",
       "      <td>1.307468</td>\n",
       "      <td>0.291797</td>\n",
       "      <td>14.787382</td>\n",
       "    </tr>\n",
       "    <tr>\n",
       "      <th>551</th>\n",
       "      <td>1.787803</td>\n",
       "      <td>1.406199</td>\n",
       "      <td>3.718001</td>\n",
       "      <td>3.634409</td>\n",
       "      <td>2.292584</td>\n",
       "      <td>2.348189</td>\n",
       "      <td>11.431759</td>\n",
       "      <td>0.853684</td>\n",
       "      <td>0.313003</td>\n",
       "      <td>11.858601</td>\n",
       "    </tr>\n",
       "    <tr>\n",
       "      <th>552</th>\n",
       "      <td>0.792772</td>\n",
       "      <td>0.712381</td>\n",
       "      <td>1.968366</td>\n",
       "      <td>1.390615</td>\n",
       "      <td>2.124467</td>\n",
       "      <td>1.589512</td>\n",
       "      <td>25.243879</td>\n",
       "      <td>0.941584</td>\n",
       "      <td>0.215730</td>\n",
       "      <td>25.714671</td>\n",
       "    </tr>\n",
       "    <tr>\n",
       "      <th>553</th>\n",
       "      <td>-0.236456</td>\n",
       "      <td>-0.000826</td>\n",
       "      <td>2.633961</td>\n",
       "      <td>2.851121</td>\n",
       "      <td>2.571063</td>\n",
       "      <td>3.161722</td>\n",
       "      <td>3.910879</td>\n",
       "      <td>1.065550</td>\n",
       "      <td>0.284582</td>\n",
       "      <td>4.443654</td>\n",
       "    </tr>\n",
       "    <tr>\n",
       "      <th>554</th>\n",
       "      <td>1.832340</td>\n",
       "      <td>1.111263</td>\n",
       "      <td>3.109406</td>\n",
       "      <td>2.506000</td>\n",
       "      <td>2.434293</td>\n",
       "      <td>1.731577</td>\n",
       "      <td>15.562894</td>\n",
       "      <td>0.864851</td>\n",
       "      <td>0.236535</td>\n",
       "      <td>15.995320</td>\n",
       "    </tr>\n",
       "    <tr>\n",
       "      <th>555</th>\n",
       "      <td>-0.179239</td>\n",
       "      <td>-0.205768</td>\n",
       "      <td>-0.093578</td>\n",
       "      <td>-0.089254</td>\n",
       "      <td>2.165519</td>\n",
       "      <td>1.349271</td>\n",
       "      <td>17.791378</td>\n",
       "      <td>1.200972</td>\n",
       "      <td>0.234041</td>\n",
       "      <td>18.391864</td>\n",
       "    </tr>\n",
       "    <tr>\n",
       "      <th>558</th>\n",
       "      <td>0.800688</td>\n",
       "      <td>0.377785</td>\n",
       "      <td>2.180823</td>\n",
       "      <td>2.039325</td>\n",
       "      <td>2.153692</td>\n",
       "      <td>1.555369</td>\n",
       "      <td>12.046659</td>\n",
       "      <td>1.104507</td>\n",
       "      <td>0.312907</td>\n",
       "      <td>12.598913</td>\n",
       "    </tr>\n",
       "    <tr>\n",
       "      <th>559</th>\n",
       "      <td>0.647476</td>\n",
       "      <td>0.483475</td>\n",
       "      <td>0.227690</td>\n",
       "      <td>0.186509</td>\n",
       "      <td>2.101427</td>\n",
       "      <td>2.672596</td>\n",
       "      <td>14.879668</td>\n",
       "      <td>2.250810</td>\n",
       "      <td>0.269773</td>\n",
       "      <td>16.005074</td>\n",
       "    </tr>\n",
       "  </tbody>\n",
       "</table>\n",
       "</div>"
      ],
      "text/plain": [
       "          (acc, STR_L)  (acc, STR_R)  (speed, STR_L)  (speed, STR_R)  \\\n",
       "subj_idx                                                               \n",
       "197           0.737896      0.842720        1.313730        1.119698   \n",
       "372           1.024637      0.960727        1.493986        1.272187   \n",
       "381           0.501157     -0.380483        0.513216        0.391880   \n",
       "471           0.487786      0.634646        0.778138        0.572152   \n",
       "483           0.557322      0.336905        2.009362        1.549082   \n",
       "498           0.865378      1.112544        1.030914        0.352001   \n",
       "523          -0.168055     -0.308861        0.207014        0.179682   \n",
       "544           1.246345      1.556859        1.777654        2.050849   \n",
       "548           0.638468      0.419053        1.098094        0.604312   \n",
       "549           0.096149     -0.018769        1.011126        0.791166   \n",
       "551           1.787803      1.406199        3.718001        3.634409   \n",
       "552           0.792772      0.712381        1.968366        1.390615   \n",
       "553          -0.236456     -0.000826        2.633961        2.851121   \n",
       "554           1.832340      1.111263        3.109406        2.506000   \n",
       "555          -0.179239     -0.205768       -0.093578       -0.089254   \n",
       "558           0.800688      0.377785        2.180823        2.039325   \n",
       "559           0.647476      0.483475        0.227690        0.186509   \n",
       "\n",
       "                 v     v_lMd  B_Eacc-spd         A        t0  \\\n",
       "subj_idx                                                       \n",
       "197       2.413879  2.191440   18.944341  0.992009  0.216010   \n",
       "372       2.412962  2.672608   22.173747  1.047326  0.236527   \n",
       "381       2.229086  1.035032    6.832215  1.459094  0.270507   \n",
       "471       2.012071  0.692405   33.025210  0.701542  0.255210   \n",
       "483       2.030483  1.739173   18.403944  1.005639  0.232920   \n",
       "498       2.110133  1.063324   13.249969  1.134408  0.252157   \n",
       "523       2.220598  2.000645   18.663891  1.107035  0.235048   \n",
       "544       2.164288  2.102854   17.794701  1.266620  0.234347   \n",
       "548       1.932352  1.383561   16.662635  0.970326  0.292100   \n",
       "549       2.153714  1.843414   14.133648  1.307468  0.291797   \n",
       "551       2.292584  2.348189   11.431759  0.853684  0.313003   \n",
       "552       2.124467  1.589512   25.243879  0.941584  0.215730   \n",
       "553       2.571063  3.161722    3.910879  1.065550  0.284582   \n",
       "554       2.434293  1.731577   15.562894  0.864851  0.236535   \n",
       "555       2.165519  1.349271   17.791378  1.200972  0.234041   \n",
       "558       2.153692  1.555369   12.046659  1.104507  0.312907   \n",
       "559       2.101427  2.672596   14.879668  2.250810  0.269773   \n",
       "\n",
       "          response_caution_diff  \n",
       "subj_idx                         \n",
       "197                   19.440345  \n",
       "372                   22.697411  \n",
       "381                    7.561762  \n",
       "471                   33.375981  \n",
       "483                   18.906763  \n",
       "498                   13.817173  \n",
       "523                   19.217409  \n",
       "544                   18.428012  \n",
       "548                   17.147797  \n",
       "549                   14.787382  \n",
       "551                   11.858601  \n",
       "552                   25.714671  \n",
       "553                    4.443654  \n",
       "554                   15.995320  \n",
       "555                   18.391864  \n",
       "558                   12.598913  \n",
       "559                   16.005074  "
      ]
     },
     "execution_count": 24,
     "metadata": {},
     "output_type": "execute_result"
    }
   ],
   "source": [
    "combined_data = pd.merge(neural_results, behavioral_results, left_index=True, right_index=True)\n",
    "combined_data"
   ]
  },
  {
   "cell_type": "markdown",
   "metadata": {},
   "source": [
    "8) Can you plot the a scatterplot with:\n",
    "- on the x-axis the difference between threshold in accuracy and speed trials? (acc - speed)\n",
    "- on the y-axis the difference in striatum activation after an accuracy cue and a speed cue (acc - speed);\n",
    "\n",
    "Do this for left & right striatum separately.\n",
    "One function you could use is seaborn's [jointplot](https://seaborn.pydata.org/generated/seaborn.jointplot.html)"
   ]
  },
  {
   "cell_type": "code",
   "execution_count": 25,
   "metadata": {},
   "outputs": [
    {
     "data": {
      "text/plain": [
       "<matplotlib.legend.Legend at 0x7fd1ce144eb0>"
      ]
     },
     "execution_count": 25,
     "metadata": {},
     "output_type": "execute_result"
    },
    {
     "data": {
      "image/png": "[encoded data removed]",
      "text/plain": [
       "<Figure size 432x432 with 3 Axes>"
      ]
     },
     "metadata": {
      "needs_background": "light"
     },
     "output_type": "display_data"
    }
   ],
   "source": [
    "x = combined_data['B_Eacc-spd']\n",
    "y = combined_data[('acc', 'STR_R')] - combined_data[('speed', 'STR_R')]\n",
    "j = sns.jointplot(x=x,y=y)\n",
    "\n",
    "\n",
    "import scipy.stats as stats\n",
    "j.set_axis_labels('threshold (acc - speed)', 'BOLD in right striatum (acc - speed)', fontsize=16)\n",
    "\n",
    "r, p = stats.pearsonr(x, y)\n",
    "# if you choose to write your own legend, then you should adjust the properties then\n",
    "phantom, = j.ax_joint.plot([], [], linestyle=\"\", alpha=0)\n",
    "# here graph is not a ax but a joint grid, so we access the axis through ax_joint method\n",
    "\n",
    "j.ax_joint.legend([phantom],['r={:f}, p={:f}'.format(r,p)])"
   ]
  },
  {
   "cell_type": "code",
   "execution_count": 26,
   "metadata": {},
   "outputs": [
    {
     "data": {
      "text/plain": [
       "<matplotlib.legend.Legend at 0x7fd1ce17f4f0>"
      ]
     },
     "execution_count": 26,
     "metadata": {},
     "output_type": "execute_result"
    },
    {
     "data": {
      "image/png": "[encoded data removed]",
      "text/plain": [
       "<Figure size 432x432 with 3 Axes>"
      ]
     },
     "metadata": {
      "needs_background": "light"
     },
     "output_type": "display_data"
    }
   ],
   "source": [
    "x = -combined_data['response_caution_diff']\n",
    "y = combined_data[('acc', 'STR_L')] - combined_data[('speed', 'STR_L')]\n",
    "j = sns.jointplot(x=x,y=y)\n",
    "\n",
    "\n",
    "import scipy.stats as stats\n",
    "j.set_axis_labels('threshold (acc - speed)', 'BOLD in left striatum (acc - speed)', fontsize=16)\n",
    "\n",
    "r, p = stats.pearsonr(x, y)\n",
    "# if you choose to write your own legend, then you should adjust the properties then\n",
    "phantom, = j.ax_joint.plot([], [], linestyle=\"\", alpha=0)\n",
    "# here graph is not a ax but a joint grid, so we access the axis through ax_joint method\n",
    "\n",
    "j.ax_joint.legend([phantom],['r={:f}, p={:f}'.format(r,p)])"
   ]
  },
  {
   "cell_type": "markdown",
   "metadata": {},
   "source": [
    "What do you see? Is there a relation between striatal activation and threshold setting?"
   ]
  },
  {
   "cell_type": "markdown",
   "metadata": {},
   "source": [
    "We seem to have replicated the Forstmann et al. 2008 results for the right (but not left) striatum - at least conceptually\n",
    "\n",
    "There's many ways to improve this analysis:\n",
    "\n",
    "- I did not do a full model comparison of the behavioral data, which could imply that we're using an overfitted model and the parameter estimates are off. \n",
    "- It is better to use a hierarchical model combined with plausible values. \n",
    "- Or even better, a joint model where the neural and behavioral data are jointly modelled. \n",
    "- Further, I simplified the statistical modelling of the fMRI data for educative purposes; for example, in your first-level GLM, you want to pre-whiten the data, you want to temporally filter your data (get rid of the drift), and in the second level-analysis, potential variability in within-subject errors was ignored. Normally, you would want to use something like FSL's FEAT-algorithms such as FILMGLS and FLAME1/FLAME1+2 to do the statistical modelling.\n",
    "\n",
    "But anyway, regardless, the above serves as an illustration of the general idea of traditional model-based analyses of fMRI data."
   ]
  },
  {
   "cell_type": "markdown",
   "metadata": {},
   "source": [
    "## You've reached the end"
   ]
  }
 ],
 "metadata": {
  "kernelspec": {
   "display_name": "Python 3 (ipykernel)",
   "language": "python",
   "name": "python3"
  },
  "language_info": {
   "codemirror_mode": {
    "name": "ipython",
    "version": 3
   },
   "file_extension": ".py",
   "mimetype": "text/x-python",
   "name": "python",
   "nbconvert_exporter": "python",
   "pygments_lexer": "ipython3",
   "version": "3.8.13"
  }
 },
 "nbformat": 4,
 "nbformat_minor": 4
}
